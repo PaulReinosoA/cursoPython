{
 "cells": [
  {
   "cell_type": "markdown",
   "metadata": {},
   "source": [
    "# Titulo 1\n",
    "##### titulo 6\n",
    "## titulo 2\n",
    "\n",
    "![alt text](https://github.com/adam-p/markdown-here/raw/master/src/common/images/icon48.png \"Logo Title Text 1\")"
   ]
  },
  {
   "cell_type": "markdown",
   "metadata": {},
   "source": []
  },
  {
   "cell_type": "code",
   "execution_count": 1,
   "metadata": {},
   "outputs": [
    {
     "name": "stdout",
     "output_type": "stream",
     "text": [
      "hola mundo\n"
     ]
    }
   ],
   "source": [
    "print (\"hola mundo\")"
   ]
  },
  {
   "cell_type": "code",
   "execution_count": 6,
   "metadata": {},
   "outputs": [
    {
     "name": "stdout",
     "output_type": "stream",
     "text": [
      "<class 'int'>\n",
      "<class 'float'>\n",
      "<class 'str'>\n",
      "<class 'str'>\n",
      "<class 'str'>\n",
      "<class 'bool'>\n",
      "<class 'bool'>\n",
      "<class 'NoneType'>\n"
     ]
    }
   ],
   "source": [
    "#No tipado\n",
    "#variables Primitivas\n",
    "entero=4\n",
    "decimales=1.1\n",
    "nombre=\"Paul\"\n",
    "segundo_Nombre=\"Washington\" #segundoNombre -> X mal\n",
    "apellido=\"Reinoso\"\n",
    "casado = False\n",
    "profesor = True\n",
    "hijos = None #nulo\n",
    "\n",
    "print(type(entero)) # int\n",
    "print(type(decimales)) # float\n",
    "print(type(nombre)) # str\n",
    "print(type(segundo_Nombre)) # str\n",
    "print(type(apellido)) # str\n",
    "print(type(casado)) # bool\n",
    "print(type(profesor)) # bool\n",
    "print(type(hijos)) # NoneType"
   ]
  },
  {
   "cell_type": "code",
   "execution_count": 8,
   "metadata": {},
   "outputs": [
    {
     "name": "stdout",
     "output_type": "stream",
     "text": [
      "\n",
      "Markdown es un lenguaje de marcado que facilita la aplicación de formato a un texto \n",
      "empleando una serie de caracteres de una forma especial. \n",
      "En principio, fue pensado para elaborar textos cuyo destino iba a ser la web con más rapidez y sencillez \n",
      "que si estuviésemos empleando directamente HTML. Y si bien ese suele ser el mejor uso que podemos darle, \n",
      "también podemos emplearlo para cualquier tipo de texto, independientemente de cual vaya a ser su destino.\n",
      "\n"
     ]
    }
   ],
   "source": [
    "cadena_de_texto= \"\"\"\n",
    "Markdown es un lenguaje de marcado que facilita la aplicación de formato a un texto \n",
    "empleando una serie de caracteres de una forma especial. \n",
    "En principio, fue pensado para elaborar textos cuyo destino iba a ser la web con más rapidez y sencillez \n",
    "que si estuviésemos empleando directamente HTML. Y si bien ese suele ser el mejor uso que podemos darle, \n",
    "también podemos emplearlo para cualquier tipo de texto, independientemente de cual vaya a ser su destino.\n",
    "\"\"\"\n",
    "print(cadena_de_texto)"
   ]
  },
  {
   "cell_type": "code",
   "execution_count": 4,
   "metadata": {},
   "outputs": [
    {
     "name": "stdout",
     "output_type": "stream",
     "text": [
      "4\n",
      "Paul\n"
     ]
    }
   ],
   "source": [
    "print(entero)\n",
    "entero = decimales\n",
    "entero = hijos\n",
    "entero = casado\n",
    "entero = nombre\n",
    "print(entero)\n",
    "# CAPA 8 !!\n"
   ]
  },
  {
   "cell_type": "code",
   "execution_count": 11,
   "metadata": {},
   "outputs": [
    {
     "name": "stdout",
     "output_type": "stream",
     "text": [
      "Truty\n",
      "Falsy\n",
      "False\n",
      "Truty\n",
      "Truty\n",
      "False\n",
      "Truty\n",
      "Truty\n",
      "False\n",
      "Truty\n",
      "Truty\n",
      "False\n",
      "False\n",
      "Truty\n"
     ]
    }
   ],
   "source": [
    "# Condiciones\n",
    "# Truty - Falsy\n",
    "tuplas = (1,2,3) # Arreglos que no se pueden modificar\n",
    "listas = [4,5,6] # Arreglos que se pueden modificar\n",
    "diccionario = {\n",
    "    \"nombre\":\"Paul\"\n",
    "}\n",
    "nombre = 'Paul'\n",
    "if(nombre): # Truty\n",
    "    # ...\n",
    "    # ...\n",
    "    print('Truty')\n",
    "else:\n",
    "    # ...\n",
    "    # ...\n",
    "    print('Falsy')\n",
    "\n",
    "if(''): # Falsy\n",
    "    print('Truty')\n",
    "else:\n",
    "    print('Falsy')\n",
    "    \n",
    "    \n",
    "varibleNula=None \n",
    "if(varibleNula):\n",
    "    print('Truty')\n",
    "else:\n",
    "    print('False')\n",
    "    \n",
    "\n",
    "if(1):\n",
    "    print('Truty')\n",
    "else:\n",
    "    print('False')\n",
    "\n",
    "\n",
    "if(-1):\n",
    "    print('Truty')\n",
    "else:\n",
    "    print('False')\n",
    "\n",
    "\n",
    "if(0):\n",
    "    print('Truty')\n",
    "else:\n",
    "    print('False')\n",
    "    \n",
    "if(-1.1):\n",
    "    print('Truty')\n",
    "else:\n",
    "    print('False')\n",
    "    \n",
    "if(1.2):\n",
    "    print('Truty')\n",
    "else:\n",
    "    print('False')\n",
    "    \n",
    "#las tupls se definen con () --son arrgels que no cambian de tmaño\n",
    "\n",
    "if(()):#tuplas vacias\n",
    "    print('Truty')\n",
    "else:\n",
    "    print('False')\n",
    "    \n",
    "if((1,2,3)):#tuplas vacias\n",
    "    print('Truty')\n",
    "else:\n",
    "    print('False')\n",
    "    \n",
    "\n",
    "#listas --> se definen con []\n",
    "\n",
    "if([1,2,3]):\n",
    "    print('Truty')\n",
    "else:\n",
    "    print('False')\n",
    "    \n",
    "if([]):\n",
    "    print('Truty')\n",
    "else:\n",
    "    print('False')\n",
    "    \n",
    "    \n",
    "#diccionarios --> se realizan con {}\n",
    "if({}):\n",
    "    print('Truty')\n",
    "else:\n",
    "    print('False')\n",
    "\n",
    "if({nombre:'Paul'}):\n",
    "    print('Truty')\n",
    "else:\n",
    "    print('False')"
   ]
  },
  {
   "cell_type": "code",
   "execution_count": 12,
   "metadata": {},
   "outputs": [],
   "source": [
    "arreglo = [1, 2, 3, 4, 5, 6, 7, 8, 9, 10]"
   ]
  },
  {
   "cell_type": "code",
   "execution_count": 27,
   "metadata": {},
   "outputs": [
    {
     "data": {
      "text/plain": [
       "(3, 4, 5, 6, 7)"
      ]
     },
     "execution_count": 27,
     "metadata": {},
     "output_type": "execute_result"
    }
   ],
   "source": [
    "arreglo [0:3] #[0-3[\n",
    "arreglo [5:] # hasta el final\n",
    "arreglo [:7] # Desde el principio\n",
    "arreglo [-1] \n",
    "arreglo [-10] #Indice negtivo empieza del final\n",
    "arreglo [3:-2] \n",
    "arreglo [-8:8] \n",
    "arreglo [-4:-1]\n",
    "arreglo [-7:]\n",
    "arreglo [:-3]\n",
    "arreglo [:] #se podri clonar el arreglo asi\n",
    "\n",
    "arreglo_Tupla=(1,2,3,4,5,6,7,8,9,10) # Arreglos que no se pueden modificar()\n",
    "arreglo_Tupla [2:7]"
   ]
  },
  {
   "cell_type": "code",
   "execution_count": 37,
   "metadata": {},
   "outputs": [
    {
     "data": {
      "text/plain": [
       "'Paul'"
      ]
     },
     "execution_count": 37,
     "metadata": {},
     "output_type": "execute_result"
    }
   ],
   "source": [
    "diccionario = { #funcionan con llave-Valor\n",
    "    \"nombre\":\"Paul\",\n",
    "    \"apellido\":\"Reinos\",\n",
    "    \"sueldo\":123.2,\n",
    "    \"Valor\":7\n",
    "}\n",
    "\n",
    "diccionario [\"nombre\"]"
   ]
  },
  {
   "cell_type": "code",
   "execution_count": 31,
   "metadata": {},
   "outputs": [
    {
     "data": {
      "text/plain": [
       "False"
      ]
     },
     "execution_count": 31,
     "metadata": {},
     "output_type": "execute_result"
    }
   ],
   "source": [
    "12 in arreglo"
   ]
  },
  {
   "cell_type": "code",
   "execution_count": 32,
   "metadata": {},
   "outputs": [
    {
     "data": {
      "text/plain": [
       "True"
      ]
     },
     "execution_count": 32,
     "metadata": {},
     "output_type": "execute_result"
    }
   ],
   "source": [
    "10 in arreglo"
   ]
  },
  {
   "cell_type": "code",
   "execution_count": 33,
   "metadata": {},
   "outputs": [
    {
     "name": "stdout",
     "output_type": "stream",
     "text": [
      "<class 'bool'>\n"
     ]
    }
   ],
   "source": [
    "print (type(12 in arreglo))"
   ]
  },
  {
   "cell_type": "code",
   "execution_count": 34,
   "metadata": {},
   "outputs": [
    {
     "data": {
      "text/plain": [
       "10"
      ]
     },
     "execution_count": 34,
     "metadata": {},
     "output_type": "execute_result"
    }
   ],
   "source": [
    "len (arreglo)"
   ]
  },
  {
   "cell_type": "code",
   "execution_count": 35,
   "metadata": {},
   "outputs": [
    {
     "data": {
      "text/plain": [
       "3"
      ]
     },
     "execution_count": 35,
     "metadata": {},
     "output_type": "execute_result"
    }
   ],
   "source": [
    "len (diccionario)"
   ]
  },
  {
   "cell_type": "code",
   "execution_count": 40,
   "metadata": {},
   "outputs": [
    {
     "data": {
      "text/plain": [
       "True"
      ]
     },
     "execution_count": 40,
     "metadata": {},
     "output_type": "execute_result"
    }
   ],
   "source": [
    "\"Valor\" in diccionario #en diccionrios usamos las llaves para buscar"
   ]
  },
  {
   "cell_type": "code",
   "execution_count": 45,
   "metadata": {},
   "outputs": [],
   "source": [
    "arreglo[0]=2\n",
    "#arreglo.pop\n",
    "#arreglo.append\n",
    "#arreglo.insert"
   ]
  },
  {
   "cell_type": "code",
   "execution_count": 46,
   "metadata": {},
   "outputs": [
    {
     "name": "stdout",
     "output_type": "stream",
     "text": [
      "2\n",
      "2\n",
      "3\n",
      "4\n",
      "5\n",
      "6\n",
      "7\n",
      "8\n",
      "9\n",
      "10\n"
     ]
    }
   ],
   "source": [
    "for numeroLista in arreglo:\n",
    "    print (numeroLista)"
   ]
  },
  {
   "cell_type": "code",
   "execution_count": 47,
   "metadata": {},
   "outputs": [
    {
     "name": "stdout",
     "output_type": "stream",
     "text": [
      "nombre\n",
      "apellido\n",
      "sueldo\n",
      "Valor\n"
     ]
    }
   ],
   "source": [
    "for valor in diccionario:\n",
    "    print (valor)\n"
   ]
  },
  {
   "cell_type": "code",
   "execution_count": 48,
   "metadata": {},
   "outputs": [
    {
     "name": "stdout",
     "output_type": "stream",
     "text": [
      "0\n",
      "1\n",
      "2\n",
      "3\n",
      "4\n",
      "5\n",
      "6\n",
      "7\n",
      "8\n",
      "9\n"
     ]
    }
   ],
   "source": [
    "contador =0\n",
    "while contador < 10:\n",
    "    print(contador)\n",
    "    contador+=1"
   ]
  },
  {
   "cell_type": "code",
   "execution_count": 2,
   "metadata": {},
   "outputs": [],
   "source": [
    "paul={ #esta sintasis no se deb usar o debe ponerse llaves de string y valores de lo que necesitemso guardar\n",
    "    True: \"Paul\",\n",
    "    False: \"Reinoso\",\n",
    "    1: 12.2,\n",
    "    1.1: 89,\n",
    "    'edad': 31,\n",
    "    \"mascota\": [{\"nombre\",\"kiara\"}],\n",
    "    None: None\n",
    "}"
   ]
  },
  {
   "cell_type": "code",
   "execution_count": 3,
   "metadata": {},
   "outputs": [],
   "source": [
    "paul [\"edad\"]=25"
   ]
  },
  {
   "cell_type": "code",
   "execution_count": 4,
   "metadata": {},
   "outputs": [
    {
     "data": {
      "text/plain": [
       "{True: 12.2,\n",
       " False: 'Reinoso',\n",
       " 1.1: 89,\n",
       " 'edad': 25,\n",
       " 'mascota': [{'kiara', 'nombre'}],\n",
       " None: None}"
      ]
     },
     "execution_count": 4,
     "metadata": {},
     "output_type": "execute_result"
    }
   ],
   "source": [
    "paul"
   ]
  },
  {
   "cell_type": "code",
   "execution_count": 7,
   "metadata": {},
   "outputs": [
    {
     "ename": "TypeError",
     "evalue": "'set' object does not support item assignment",
     "output_type": "error",
     "traceback": [
      "\u001b[1;31m---------------------------------------------------------------------------\u001b[0m",
      "\u001b[1;31mTypeError\u001b[0m                                 Traceback (most recent call last)",
      "\u001b[1;32m<ipython-input-7-4c17d5487253>\u001b[0m in \u001b[0;36m<module>\u001b[1;34m\u001b[0m\n\u001b[1;32m----> 1\u001b[1;33m \u001b[0mpaul\u001b[0m \u001b[1;33m[\u001b[0m\u001b[1;34m\"mascota\"\u001b[0m\u001b[1;33m]\u001b[0m\u001b[1;33m[\u001b[0m\u001b[1;36m0\u001b[0m\u001b[1;33m]\u001b[0m\u001b[1;33m[\u001b[0m\u001b[1;34m\"nombre\"\u001b[0m\u001b[1;33m]\u001b[0m\u001b[1;33m=\u001b[0m\u001b[1;34m\"kia\"\u001b[0m\u001b[1;33m\u001b[0m\u001b[1;33m\u001b[0m\u001b[0m\n\u001b[0m",
      "\u001b[1;31mTypeError\u001b[0m: 'set' object does not support item assignment"
     ]
    }
   ],
   "source": [
    "paul [\"mascota\"][0][\"nombre\"]=\"kia\""
   ]
  },
  {
   "cell_type": "code",
   "execution_count": 67,
   "metadata": {},
   "outputs": [
    {
     "data": {
      "text/plain": [
       "dict_keys([True, False, 1.1, 'edad', 'mascota', None])"
      ]
     },
     "execution_count": 67,
     "metadata": {},
     "output_type": "execute_result"
    }
   ],
   "source": [
    "paul.keys()"
   ]
  },
  {
   "cell_type": "code",
   "execution_count": 70,
   "metadata": {},
   "outputs": [
    {
     "name": "stdout",
     "output_type": "stream",
     "text": [
      "<class 'dict_keys'>\n"
     ]
    }
   ],
   "source": [
    "print(type(paul.keys())) "
   ]
  },
  {
   "cell_type": "code",
   "execution_count": 72,
   "metadata": {},
   "outputs": [
    {
     "name": "stdout",
     "output_type": "stream",
     "text": [
      "True\n",
      "False\n",
      "1.1\n",
      "edad\n",
      "mascota\n",
      "None\n"
     ]
    }
   ],
   "source": [
    "for llave in paul.keys():\n",
    "    print(llave)"
   ]
  },
  {
   "cell_type": "code",
   "execution_count": 73,
   "metadata": {},
   "outputs": [
    {
     "name": "stdout",
     "output_type": "stream",
     "text": [
      "12.2\n",
      "Reinoso\n",
      "89\n",
      "31\n",
      "[{'kiara', 'nombre'}]\n",
      "None\n"
     ]
    }
   ],
   "source": [
    "for llave in paul.values():\n",
    "    print(llave)"
   ]
  },
  {
   "cell_type": "code",
   "execution_count": 76,
   "metadata": {},
   "outputs": [
    {
     "data": {
      "text/plain": [
       "False"
      ]
     },
     "execution_count": 76,
     "metadata": {},
     "output_type": "execute_result"
    }
   ],
   "source": [
    "1==1 or 2==2\n",
    "1!=1 and 2!=2"
   ]
  },
  {
   "cell_type": "code",
   "execution_count": null,
   "metadata": {},
   "outputs": [],
   "source": []
  }
 ],
 "metadata": {
  "kernelspec": {
   "display_name": "Python 3",
   "language": "python",
   "name": "python3"
  },
  "language_info": {
   "codemirror_mode": {
    "name": "ipython",
    "version": 3
   },
   "file_extension": ".py",
   "mimetype": "text/x-python",
   "name": "python",
   "nbconvert_exporter": "python",
   "pygments_lexer": "ipython3",
   "version": "3.7.6"
  }
 },
 "nbformat": 4,
 "nbformat_minor": 4
}
