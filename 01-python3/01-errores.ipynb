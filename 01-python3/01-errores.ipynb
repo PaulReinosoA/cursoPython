{
 "cells": [
  {
   "cell_type": "code",
   "execution_count": 1,
   "metadata": {},
   "outputs": [],
   "source": [
    "# asdasdsad NameError\n",
    "# dfasdf  sdfasdf SyntaxError\n",
    "# 0/0 ZeroDivisionError\n",
    "# a = {'b':'b'} \n",
    "# a['c'] KeyError\n"
   ]
  },
  {
   "cell_type": "code",
   "execution_count": 2,
   "metadata": {},
   "outputs": [
    {
     "name": "stdout",
     "output_type": "stream",
     "text": [
      "Name error, variable no declarada\n"
     ]
    }
   ],
   "source": [
    "try:\n",
    "    asdasdsad\n",
    "    0/0\n",
    "    a = {'b':'b'} \n",
    "    a['c']\n",
    "except NameError as nameError:\n",
    "    print(\"Name error, variable no declarada\")\n",
    "except (ZeroDivisionError, KeyError) as errorComun:\n",
    "    print(\"Error comun en python\")\n",
    "except Exception as error:\n",
    "    print(error)"
   ]
  },
  {
   "cell_type": "code",
   "execution_count": null,
   "metadata": {},
   "outputs": [],
   "source": []
  }
 ],
 "metadata": {
  "kernelspec": {
   "display_name": "Python 3",
   "language": "python",
   "name": "python3"
  },
  "language_info": {
   "codemirror_mode": {
    "name": "ipython",
    "version": 3
   },
   "file_extension": ".py",
   "mimetype": "text/x-python",
   "name": "python",
   "nbconvert_exporter": "python",
   "pygments_lexer": "ipython3",
   "version": "3.7.6"
  }
 },
 "nbformat": 4,
 "nbformat_minor": 4
}
