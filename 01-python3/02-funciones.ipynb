{
 "cells": [
  {
   "cell_type": "code",
   "execution_count": null,
   "metadata": {},
   "outputs": [],
   "source": []
  },
  {
   "cell_type": "code",
   "execution_count": 3,
   "metadata": {},
   "outputs": [
    {
     "name": "stdout",
     "output_type": "stream",
     "text": [
      "la suma de 2 mas 3 es igual a 5\n"
     ]
    }
   ],
   "source": [
    "def sumar_dos_numeros (num_uno, num_dos): #parametros requeridos\n",
    "    return num_uno+num_dos\n",
    "# print(sumar_dos_numeros(2,3))\n",
    "total_suma=sumar_dos_numeros(2,3)\n",
    "print (f\"la suma de 2 mas 3 es igual a {total_suma}\")"
   ]
  },
  {
   "cell_type": "code",
   "execution_count": 9,
   "metadata": {},
   "outputs": [
    {
     "name": "stdout",
     "output_type": "stream",
     "text": [
      "universidad: EPN\n",
      "universidad: ESPE\n"
     ]
    }
   ],
   "source": [
    "def imprimir_universidad (nombre=\"EPN\"):#parametros opcional\n",
    "    print(f\"universidad: {nombre}\")     #parametro por defecto\n",
    "    \n",
    "imprimir_universidad()\n",
    "imprimir_universidad(\"ESPE\")\n"
   ]
  },
  {
   "cell_type": "code",
   "execution_count": 12,
   "metadata": {},
   "outputs": [
    {
     "name": "stdout",
     "output_type": "stream",
     "text": [
      "color: Blanco\n",
      "placa: ABC\n",
      "hp: 30000\n",
      "anio: 1989\n"
     ]
    }
   ],
   "source": [
    "#REGLA   1) parametros requeridos\n",
    "#         2) parametros opcionales\n",
    "def imprimir_carro(color,placa,hp,anio=1989):\n",
    "    print(f\"color: {color}\")\n",
    "    print(f\"placa: {placa}\")\n",
    "    print(f\"hp: {hp}\")\n",
    "    print(f\"anio: {anio}\")\n",
    "imprimir_carro(\"Blanco\", \"ABC\",30000)\n",
    "    "
   ]
  },
  {
   "cell_type": "code",
   "execution_count": 13,
   "metadata": {},
   "outputs": [
    {
     "name": "stdout",
     "output_type": "stream",
     "text": [
      "color: Negro\n",
      "placa: DEF-123\n",
      "hp: 1208\n",
      "anio: 1999\n"
     ]
    }
   ],
   "source": [
    "#Named Oarameters (Parametros Nombrados)\n",
    "imprimir_carro(anio=1999, placa=\"DEF-123\",hp=1208,color=\"Negro\")"
   ]
  },
  {
   "cell_type": "code",
   "execution_count": 14,
   "metadata": {},
   "outputs": [
    {
     "ename": "SyntaxError",
     "evalue": "positional argument follows keyword argument (<ipython-input-14-c27cf323bd35>, line 1)",
     "output_type": "error",
     "traceback": [
      "\u001b[1;36m  File \u001b[1;32m\"<ipython-input-14-c27cf323bd35>\"\u001b[1;36m, line \u001b[1;32m1\u001b[0m\n\u001b[1;33m    imprimir_carro(placa=\"HJ-123\",\"verde\",2133,1934)\u001b[0m\n\u001b[1;37m                                 ^\u001b[0m\n\u001b[1;31mSyntaxError\u001b[0m\u001b[1;31m:\u001b[0m positional argument follows keyword argument\n"
     ]
    }
   ],
   "source": [
    "#Podemos usar parametros por posicion y luego TODOS LOS DEMAS\n",
    "#podemos usar parametros nombrados \n",
    "imprimir_carro(placa=\"HJ-123\",\"verde\",2133,1934)\n",
    "imprimir_carro(\"verde\",\"HJ-123\", hp=2133,anio=1934)"
   ]
  },
  {
   "cell_type": "code",
   "execution_count": 22,
   "metadata": {},
   "outputs": [
    {
     "name": "stdout",
     "output_type": "stream",
     "text": [
      "1\n",
      "(12, 3, 4, 4, 5, 5, 6)\n",
      "<class 'tuple'>\n"
     ]
    },
    {
     "data": {
      "text/plain": [
       "40"
      ]
     },
     "execution_count": 22,
     "metadata": {},
     "output_type": "execute_result"
    }
   ],
   "source": [
    "def sumar_numeros(primer_numero,\n",
    "                  *numeros):#parametros infinitos(*)\n",
    "    print(primer_numero)\n",
    "    print(numeros)\n",
    "    print(type(numeros))\n",
    "    suma=primer_numero\n",
    "    for numero in numeros:\n",
    "        suma=suma+numero\n",
    "    return suma\n",
    "sumar_numeros(1,12,3,4,4,5,5,6)    "
   ]
  },
  {
   "cell_type": "code",
   "execution_count": 24,
   "metadata": {},
   "outputs": [
    {
     "name": "stdout",
     "output_type": "stream",
     "text": [
      "{'saludo': 'hola', 'mensaje': 'mundo'}\n",
      "<class 'dict'>\n"
     ]
    }
   ],
   "source": [
    "def establecer_configuracion(**configuracion):\n",
    "    print(configuracion)\n",
    "    print(type(configuracion))\n",
    "establecer_configuracion(saludo=\"hola\",mensaje=\"mundo\")    "
   ]
  },
  {
   "cell_type": "code",
   "execution_count": 25,
   "metadata": {},
   "outputs": [],
   "source": [
    "#Reglas\n",
    "def ejemplo (requerido_uno,\n",
    "            requerido_dos,\n",
    "            opcional_uno=1,\n",
    "            opcional_dos=2,\n",
    "            *infinitos,\n",
    "            **kwargs):\n",
    "    print(\":)\")"
   ]
  },
  {
   "cell_type": "code",
   "execution_count": null,
   "metadata": {},
   "outputs": [],
   "source": []
  },
  {
   "cell_type": "code",
   "execution_count": null,
   "metadata": {},
   "outputs": [],
   "source": []
  }
 ],
 "metadata": {
  "kernelspec": {
   "display_name": "Python 3",
   "language": "python",
   "name": "python3"
  },
  "language_info": {
   "codemirror_mode": {
    "name": "ipython",
    "version": 3
   },
   "file_extension": ".py",
   "mimetype": "text/x-python",
   "name": "python",
   "nbconvert_exporter": "python",
   "pygments_lexer": "ipython3",
   "version": "3.7.6"
  }
 },
 "nbformat": 4,
 "nbformat_minor": 4
}
