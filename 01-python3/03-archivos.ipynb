{
 "cells": [
  {
   "cell_type": "code",
   "execution_count": 15,
   "metadata": {},
   "outputs": [
    {
     "name": "stdout",
     "output_type": "stream",
     "text": [
      "Archivo leido ><\n",
      " buenos dias\n",
      "<class 'str'>\n"
     ]
    }
   ],
   "source": [
    "try:\n",
    "    path = \"./frases.txt\"\n",
    "    archivo_abierto=open(path)\n",
    "    linea_uno =archivo_abierto.readline()\n",
    "    print(f\"Archivo leido ><\\n {linea_uno}\")\n",
    "    print(type(linea_uno))\n",
    "    archivo_abierto.close()\n",
    "except Exception as Error:\n",
    "        print(\"Error leyendo Archivo\")"
   ]
  },
  {
   "cell_type": "code",
   "execution_count": 26,
   "metadata": {},
   "outputs": [
    {
     "name": "stdout",
     "output_type": "stream",
     "text": [
      "Archivo leido ><\n",
      " ['buenos diasBuenas tardesBuenas tardesBuenas tardes']\n"
     ]
    }
   ],
   "source": [
    "try:\n",
    "    path = \"./frases.txt\"\n",
    "    archivo_abierto_dos=open(path)       #2 metodos de escritura w->wrie  a->append    \n",
    "    archivo_abierto=open(path,'a') #->append\n",
    "    archivo_abierto.write(\"Buenas tardes\")\n",
    "    linea_uno =archivo_abierto_dos.readlines()\n",
    "    print(f\"Archivo leido ><\\n {linea_uno}\")\n",
    "    archivo_abierto.close()\n",
    "except Exception as Error:\n",
    "        print(\"Error leyendo Archivo\")"
   ]
  },
  {
   "cell_type": "code",
   "execution_count": null,
   "metadata": {},
   "outputs": [],
   "source": []
  },
  {
   "cell_type": "code",
   "execution_count": null,
   "metadata": {},
   "outputs": [],
   "source": []
  },
  {
   "cell_type": "code",
   "execution_count": null,
   "metadata": {},
   "outputs": [],
   "source": []
  }
 ],
 "metadata": {
  "kernelspec": {
   "display_name": "Python 3",
   "language": "python",
   "name": "python3"
  },
  "language_info": {
   "codemirror_mode": {
    "name": "ipython",
    "version": 3
   },
   "file_extension": ".py",
   "mimetype": "text/x-python",
   "name": "python",
   "nbconvert_exporter": "python",
   "pygments_lexer": "ipython3",
   "version": "3.7.6"
  }
 },
 "nbformat": 4,
 "nbformat_minor": 4
}
