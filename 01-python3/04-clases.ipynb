{
 "cells": [
  {
   "cell_type": "code",
   "execution_count": 1,
   "metadata": {},
   "outputs": [
    {
     "data": {
      "text/plain": [
       "4"
      ]
     },
     "execution_count": 1,
     "metadata": {},
     "output_type": "execute_result"
    }
   ],
   "source": [
    "#Funcion Lambda\n",
    "def elevar_al_cuadrado (numero):\n",
    "    return numero*numero\n",
    "elevar_al_cuadrado(2)"
   ]
  },
  {
   "cell_type": "code",
   "execution_count": 2,
   "metadata": {},
   "outputs": [],
   "source": [
    "elevar_al_cuadrado=lambda x:x*x"
   ]
  },
  {
   "cell_type": "code",
   "execution_count": 3,
   "metadata": {},
   "outputs": [],
   "source": [
    "sumar_dos_numeros= lambda x,y:x+y"
   ]
  },
  {
   "cell_type": "code",
   "execution_count": 4,
   "metadata": {},
   "outputs": [
    {
     "data": {
      "text/plain": [
       "6"
      ]
     },
     "execution_count": 4,
     "metadata": {},
     "output_type": "execute_result"
    }
   ],
   "source": [
    "sumar_dos_numeros(2,4)"
   ]
  },
  {
   "cell_type": "code",
   "execution_count": 6,
   "metadata": {},
   "outputs": [],
   "source": [
    "#clases\n",
    "class Nada:\n",
    "    pass #"
   ]
  },
  {
   "cell_type": "code",
   "execution_count": 7,
   "metadata": {},
   "outputs": [
    {
     "name": "stdout",
     "output_type": "stream",
     "text": [
      "<__main__.Nada object at 0x000001E44E0E1AC8>\n",
      "<class '__main__.Nada'>\n"
     ]
    }
   ],
   "source": [
    "una_nada= Nada()\n",
    "print(una_nada)\n",
    "print(type(una_nada))"
   ]
  },
  {
   "cell_type": "code",
   "execution_count": 20,
   "metadata": {},
   "outputs": [
    {
     "name": "stdout",
     "output_type": "stream",
     "text": [
      "Empezo El Constructor\n",
      "verde\n",
      "152.4\n",
      "color:verde\n",
      "numero Chasis:120\n",
      "\n"
     ]
    }
   ],
   "source": [
    "class Auto:\n",
    "    color = None #Publico\n",
    "    __numero_chasis=1 # Privado\n",
    "    \n",
    "    def __init__(self,color):  #self=this\n",
    "        print (\"Empezo El Constructor\")\n",
    "        self.color = color  #para inicializar el color en el constructor\n",
    "        \n",
    "    def setear_chasis(self, numero_chasis):\n",
    "        self.__numero_chasis=numero_chasis\n",
    "        return self.__calculo_chasis()\n",
    "\n",
    "    def __calculo_chasis(self):\n",
    "        return self.__numero_chasis*1.27\n",
    "    \n",
    "    def __str__(self):#metodo toString\n",
    "        parte_uno=f\"color:{self.color}\\n\"\n",
    "        parte_dos=f\"numero Chasis:{self.__numero_chasis}\\n\"\n",
    "        return parte_uno+parte_dos\n",
    "    \n",
    "        \n",
    "nuevo_auto = Auto(\"verde\")\n",
    "print(nuevo_auto.color)\n",
    "print(nuevo_auto.setear_chasis(120))\n",
    "print(nuevo_auto)"
   ]
  },
  {
   "cell_type": "code",
   "execution_count": 22,
   "metadata": {},
   "outputs": [],
   "source": [
    "class BMW(Auto):\n",
    "    def __init__(self,color,chasis):\n",
    "        print(\"Inicia constructori hijo\")\n",
    "        super().__init__(color)\n",
    "        super().setear_chasis(chasis)\n",
    "        \n",
    "        "
   ]
  },
  {
   "cell_type": "code",
   "execution_count": 23,
   "metadata": {},
   "outputs": [
    {
     "name": "stdout",
     "output_type": "stream",
     "text": [
      "Inicia constructori hijo\n",
      "Empezo El Constructor\n",
      "color:blanco\n",
      "numero Chasis:150\n",
      "\n"
     ]
    }
   ],
   "source": [
    "nuevo_BMW=BMW(\"blanco\",150)\n",
    "print(nuevo_BMW)"
   ]
  },
  {
   "cell_type": "code",
   "execution_count": null,
   "metadata": {},
   "outputs": [],
   "source": []
  }
 ],
 "metadata": {
  "kernelspec": {
   "display_name": "Python 3",
   "language": "python",
   "name": "python3"
  },
  "language_info": {
   "codemirror_mode": {
    "name": "ipython",
    "version": 3
   },
   "file_extension": ".py",
   "mimetype": "text/x-python",
   "name": "python",
   "nbconvert_exporter": "python",
   "pygments_lexer": "ipython3",
   "version": "3.7.6"
  }
 },
 "nbformat": 4,
 "nbformat_minor": 4
}
