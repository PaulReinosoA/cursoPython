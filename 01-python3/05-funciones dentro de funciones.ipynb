{
 "cells": [
  {
   "cell_type": "code",
   "execution_count": 6,
   "metadata": {},
   "outputs": [
    {
     "data": {
      "text/plain": [
       "8"
      ]
     },
     "execution_count": 6,
     "metadata": {},
     "output_type": "execute_result"
    }
   ],
   "source": [
    "def calculadora (numero_uno , numero_dos, operacion=\"suma\"):\n",
    "    def suma():\n",
    "        return numero_uno+numero_dos\n",
    "    def resta():\n",
    "        return numero_uno-numero_dos\n",
    "    def multipliccion ():\n",
    "        return numero_uno*numero_dos\n",
    "    def division():\n",
    "        return numero_uno/numero_dos\n",
    "    \n",
    "    \n",
    "    def devolver_respuesta():\n",
    "        opciones={\n",
    "            \"suma\":suma,\n",
    "            \"resta\":resta,\n",
    "            \"multiplicacion\":multipliccion,\n",
    "            \"division\":division        \n",
    "        }\n",
    "        return opciones[operacion]()\n",
    "    \n",
    "    return devolver_respuesta()\n",
    "calculadora(2,4,\"multiplicacion\")"
   ]
  },
  {
   "cell_type": "code",
   "execution_count": 9,
   "metadata": {},
   "outputs": [
    {
     "name": "stdin",
     "output_type": "stream",
     "text": [
      "Dime tu edad 23\n"
     ]
    },
    {
     "name": "stdout",
     "output_type": "stream",
     "text": [
      "23\n",
      "<class 'str'>\n",
      "<class 'int'>\n"
     ]
    }
   ],
   "source": [
    "edad =input(\"Dime tu edad\")\n",
    "print(edad)#\n",
    "print(type(edad))\n",
    "print(type(int(edad)))"
   ]
  },
  {
   "cell_type": "code",
   "execution_count": null,
   "metadata": {},
   "outputs": [],
   "source": []
  }
 ],
 "metadata": {
  "kernelspec": {
   "display_name": "Python 3",
   "language": "python",
   "name": "python3"
  },
  "language_info": {
   "codemirror_mode": {
    "name": "ipython",
    "version": 3
   },
   "file_extension": ".py",
   "mimetype": "text/x-python",
   "name": "python",
   "nbconvert_exporter": "python",
   "pygments_lexer": "ipython3",
   "version": "3.7.6"
  }
 },
 "nbformat": 4,
 "nbformat_minor": 4
}
